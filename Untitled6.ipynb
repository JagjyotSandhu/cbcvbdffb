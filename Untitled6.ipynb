{
 "cells": [
  {
   "cell_type": "code",
   "execution_count": 1,
   "metadata": {},
   "outputs": [
    {
     "name": "stdout",
     "output_type": "stream",
     "text": [
      "34\n"
     ]
    }
   ],
   "source": [
    "lst='Supercalifragilisticexpialidocious'\n",
    "print(len(lst))"
   ]
  },
  {
   "cell_type": "code",
   "execution_count": 2,
   "metadata": {},
   "outputs": [
    {
     "data": {
      "text/plain": [
       "True"
      ]
     },
     "execution_count": 2,
     "metadata": {},
     "output_type": "execute_result"
    }
   ],
   "source": [
    "'ice' in lst"
   ]
  },
  {
   "cell_type": "code",
   "execution_count": 3,
   "metadata": {},
   "outputs": [
    {
     "data": {
      "text/plain": [
       "34"
      ]
     },
     "execution_count": 3,
     "metadata": {},
     "output_type": "execute_result"
    }
   ],
   "source": [
    "lst1=['Supercalifragilisticexpialidocious', 'Honorificabilitudinitatibus','Bababadalgharaghtakamminarronnkonn']\n",
    "max(len(lst1[0]),len(lst1[1]),len(lst1[2]))"
   ]
  },
  {
   "cell_type": "code",
   "execution_count": 4,
   "metadata": {},
   "outputs": [],
   "source": [
    "lst1.sort()"
   ]
  },
  {
   "cell_type": "code",
   "execution_count": 12,
   "metadata": {},
   "outputs": [
    {
     "data": {
      "text/plain": [
       "34"
      ]
     },
     "execution_count": 12,
     "metadata": {},
     "output_type": "execute_result"
    }
   ],
   "source": [
    "\n",
    "len(lst1[2])\n"
   ]
  },
  {
   "cell_type": "code",
   "execution_count": 21,
   "metadata": {},
   "outputs": [
    {
     "name": "stdout",
     "output_type": "stream",
     "text": [
      "['Bartok', 'Bellini', 'Berlioz', 'Bernstein', 'Borodin', 'Brian', 'Buxtehude']\n"
     ]
    }
   ],
   "source": [
    "lst2=['Berlioz', 'Borodin', 'Brian','Bartok', 'Bellini', 'Buxtehude', 'Bernstein']\n",
    "lst2.sort()\n",
    "print(lst2)"
   ]
  },
  {
   "cell_type": "code",
   "execution_count": 34,
   "metadata": {},
   "outputs": [],
   "source": [
    "def  inside(x,y,x1,y1,x2,y2):\n",
    "    if   x2 >= x >= x1 and  y2 >= y >= y1:\n",
    "        return True\n",
    "    return False\n",
    "\n"
   ]
  },
  {
   "cell_type": "code",
   "execution_count": 35,
   "metadata": {},
   "outputs": [
    {
     "data": {
      "text/plain": [
       "True"
      ]
     },
     "execution_count": 35,
     "metadata": {},
     "output_type": "execute_result"
    }
   ],
   "source": [
    "inside(1,1,0,0,2,3)"
   ]
  },
  {
   "cell_type": "code",
   "execution_count": 36,
   "metadata": {},
   "outputs": [
    {
     "data": {
      "text/plain": [
       "False"
      ]
     },
     "execution_count": 36,
     "metadata": {},
     "output_type": "execute_result"
    }
   ],
   "source": [
    "inside(-1,-1,0,0,2,3)"
   ]
  },
  {
   "cell_type": "code",
   "execution_count": 37,
   "metadata": {},
   "outputs": [
    {
     "data": {
      "text/plain": [
       "False"
      ]
     },
     "execution_count": 37,
     "metadata": {},
     "output_type": "execute_result"
    }
   ],
   "source": [
    "inside(1,1,0.3,0.5,1.1,0.7)"
   ]
  },
  {
   "cell_type": "code",
   "execution_count": 38,
   "metadata": {},
   "outputs": [
    {
     "data": {
      "text/plain": [
       "True"
      ]
     },
     "execution_count": 38,
     "metadata": {},
     "output_type": "execute_result"
    }
   ],
   "source": [
    "inside(1,1,0.5,0.2,1.1,2)"
   ]
  },
  {
   "cell_type": "code",
   "execution_count": 124,
   "metadata": {},
   "outputs": [],
   "source": [
    "def pig(word):\n",
    "    word=word.lower()\n",
    "    vowel=['a','i','o','e','u']\n",
    "    if word[0] in vowel:\n",
    "        word+='way'\n",
    "        print(word)\n",
    "    else:\n",
    "        first=word[0]\n",
    "        print(word[1:]+first+'ay')"
   ]
  },
  {
   "cell_type": "code",
   "execution_count": 140,
   "metadata": {},
   "outputs": [
    {
     "name": "stdout",
     "output_type": "stream",
     "text": [
      "appyhay\n"
     ]
    }
   ],
   "source": [
    "pig('HaPPy')"
   ]
  },
  {
   "cell_type": "code",
   "execution_count": 149,
   "metadata": {},
   "outputs": [],
   "source": [
    "def bldcount(name):\n",
    "    infile = open(name, 'r')\n",
    "    type=infile.read()\n",
    "    infile.close()\n",
    "    type=type.split()\n",
    "    ab=0\n",
    "    a=0\n",
    "    b=0\n",
    "    o=0\n",
    "    oo=0\n",
    "    for i in range(len(type)):\n",
    "        if 'AB' in type[i]:\n",
    "            ab=ab+1\n",
    "        elif 'B' in type[i]:\n",
    "            b+=1\n",
    "        elif 'A' in type[i]:\n",
    "            a+=1\n",
    "        elif 'O' in type[i]:\n",
    "            o+=1\n",
    "        else:\n",
    "            oo+=1\n",
    "    print(\"There are \"+str(a)+\" patients of bloodtype A\")\n",
    "    print(\"There are \"+str(b)+\" patients of bloodtype B\")\n",
    "    print(\"There are \"+str(ab)+\" patients of bloodtype AB\")\n",
    "    print(\"There are \"+str(o)+\" patients of bloodtype O\")\n",
    "    print(\"There are \"+str(oo)+\" patients of bloodtype OO\")\n",
    "            \n",
    "    "
   ]
  },
  {
   "cell_type": "code",
   "execution_count": 150,
   "metadata": {},
   "outputs": [
    {
     "name": "stdout",
     "output_type": "stream",
     "text": [
      "There are 15 patients of bloodtype A\n",
      "There are 1 patients of bloodtype B\n",
      "There are 13 patients of bloodtype AB\n",
      "There are 15 patients of bloodtype O\n",
      "There are 0 patients of bloodtype OO\n"
     ]
    }
   ],
   "source": [
    "bldcount('bloodtype.txt')"
   ]
  },
  {
   "cell_type": "code",
   "execution_count": null,
   "metadata": {},
   "outputs": [],
   "source": [
    "a=10\n",
    "print(a)"
   ]
  },
  {
   "cell_type": "code",
   "execution_count": 11,
   "metadata": {},
   "outputs": [],
   "source": [
    "def wordcount(text):\n",
    "    textlist=text.split()\n",
    "    wordc={}\n",
    "    for word in textlist:\n",
    "        if word in wordc:\n",
    "            wordc[word]+=1\n",
    "        else:\n",
    "            wordc[word]=1\n",
    "   \n",
    "    for word in wordc:\n",
    "        if wordc[word]==1:\n",
    "            print('{:8} apears {} time'.format(word,wordc[word]))\n",
    "        if wordc[word]>1:\n",
    "            print('{:8} apears {} times'.format(word,wordc[word]))"
   ]
  },
  {
   "cell_type": "code",
   "execution_count": 12,
   "metadata": {},
   "outputs": [
    {
     "name": "stdout",
     "output_type": "stream",
     "text": [
      "a        apears 2 times\n",
      "mmango   apears 1 time\n",
      "an       apears 2 times\n",
      "apple    apears 1 time\n",
      "mercedes apears 1 time\n",
      "audi     apears 1 time\n"
     ]
    }
   ],
   "source": [
    "wordcount('a mmango an apple a mercedes an audi')"
   ]
  },
  {
   "cell_type": "code",
   "execution_count": 89,
   "metadata": {},
   "outputs": [],
   "source": [
    "def game(r,c):\n",
    "    import random\n",
    "    p=random.randrange(0,r)\n",
    "    l=random.randrange(0,c)\n",
    "    jpeg =[[0]*r]*c+\n",
    "    while True:\n",
    "        x=int(input(\"enter points of guess (format:x y) : \"))\n",
    "        y=x.split()\n",
    "        if r==x and c==y:\n",
    "            print('you found the bomb')\n",
    "            break\n",
    "        else:\n",
    "            print('try again')\n",
    "            continue\n",
    "        "
   ]
  },
  {
   "cell_type": "code",
   "execution_count": 88,
   "metadata": {},
   "outputs": [
    {
     "name": "stdout",
     "output_type": "stream",
     "text": [
      "enter x axis : 2\n",
      "enter y axis : 2\n",
      "you found the bomb\n"
     ]
    }
   ],
   "source": [
    "game(2,2)\n"
   ]
  },
  {
   "cell_type": "code",
   "execution_count": 142,
   "metadata": {},
   "outputs": [],
   "source": [
    "def game1(r,c):\n",
    "    import random\n",
    "    table=[[0]*(r-1)]*c+[1]\n",
    "    random.shuffle(table)\n",
    "    p=random.randrange(0,r)\n",
    "    l=random.randrange(0,c)\n",
    "    print(p)\n",
    "    print(l)\n",
    "    print(table[1][1])"
   ]
  },
  {
   "cell_type": "code",
   "execution_count": 144,
   "metadata": {},
   "outputs": [
    {
     "name": "stdout",
     "output_type": "stream",
     "text": [
      "3\n",
      "2\n",
      "0\n"
     ]
    }
   ],
   "source": [
    "game1(5,5)"
   ]
  },
  {
   "cell_type": "code",
   "execution_count": 355,
   "metadata": {},
   "outputs": [],
   "source": [
    "def curcon(name,ammount):\n",
    "    infile=open('currencies.txt','r')\n",
    "    list=infile.readlines()\n",
    "    #list2=list.split()\n",
    "    infile.close()\n",
    "    table={}\n",
    "    table2={}\n",
    "    for i in range(len(list)):\n",
    "        list2=list[i]  \n",
    "        for j in range(2):#   table2={list[i][:3]:[list[i][4:13],list[i][14:]]}\n",
    "             if '\\t' in list2:#  print(table2)\n",
    "                p=list2.find('\\t')\n",
    "                str=list[i][:p]\n",
    "                list2=list2.replace(str,' ')\n",
    "                print(p)\n",
    "                print(str)\n",
    "                print(list2)\n",
    "        continue\n",
    "    #return list"
   ]
  },
  {
   "cell_type": "code",
   "execution_count": 356,
   "metadata": {},
   "outputs": [
    {
     "name": "stdout",
     "output_type": "stream",
     "text": [
      "3\n",
      "AUD\n",
      " \t1.0345157\tAustralian Dollar\n",
      "\n",
      "1\n",
      "A\n",
      " \t1.0345157\t ustralian Dollar\n",
      "\n",
      "3\n",
      "CHF\n",
      " \t1.0237414\tSwiss Franc\n",
      "\n",
      "1\n",
      "C\n",
      " \t1.0237414\tSwiss Franc\n",
      "\n",
      "3\n",
      "CNY\n",
      " \t0.1550176\tChinese Yuan\n",
      "\n",
      "1\n",
      "C\n",
      " \t0.1550176\t hinese Yuan\n",
      "\n",
      "3\n",
      "DKK\n",
      " \t0.1651442\tDanish Krone\n",
      "\n",
      "1\n",
      "D\n",
      " \t0.1651442\t anish Krone\n",
      "\n",
      "3\n",
      "EUR\n",
      " \t1.2296544\tEuro\n",
      "\n",
      "1\n",
      "E\n",
      " \t1.2296544\t uro\n",
      "\n",
      "3\n",
      "GBP\n",
      " \t1.5550989\tBritish Pound\n",
      "\n",
      "1\n",
      "G\n",
      " \t1.5550989\tBritish Pound\n",
      "\n",
      "3\n",
      "HKD\n",
      " \t0.1270207\tHong Kong Dollar\n",
      "\n",
      "1\n",
      "H\n",
      " \t0.1270207\t ong Kong Dollar\n",
      "\n",
      "3\n",
      "INR\n",
      " \t0.0177643\tIndian Rupee\n",
      "\n",
      "1\n",
      "I\n",
      " \t0.0177643\t ndian Rupee\n",
      "\n",
      "3\n",
      "JPY\n",
      " \t0.01241401\tJapanese Yen\n",
      "\n",
      "1\n",
      "J\n",
      " \t0.01241401\t apanese Yen\n",
      "\n",
      "3\n",
      "MXN\n",
      " \t0.0751848\tMexican Peso\n",
      "\n",
      "1\n",
      "M\n",
      " \t0.0751848\t exican Peso\n",
      "\n",
      "3\n",
      "MYR\n",
      " \t0.3145411\tMalaysian Ringgit\n",
      "\n",
      "1\n",
      "M\n",
      " \t0.3145411\t alaysian Ringgit\n",
      "\n",
      "3\n",
      "NOK\n",
      " \t0.1677063\tNorwegian Krone\n",
      "\n",
      "1\n",
      "N\n",
      " \t0.1677063\t orwegian Krone\n",
      "\n",
      "3\n",
      "NZD\n",
      " \t0.8003591\tNew Zealand Dollar\n",
      "\n",
      "1\n",
      "N\n",
      " \t0.8003591\t ew Zealand Dollar\n",
      "\n",
      "3\n",
      "PHP\n",
      " \t0.0233234\tPhilippine Peso\n",
      "\n",
      "1\n",
      "P\n",
      " \t0.0233234\t hilippine  eso\n",
      "\n",
      "3\n",
      "SEK\n",
      " \t0.148269\tSwedish Krona\n",
      "\n",
      "1\n",
      "S\n",
      " \t0.148269\t wedish Krona\n",
      "\n",
      "3\n",
      "SGD\n",
      " \t0.788871\tSingapore Dollar\n",
      "\n",
      "1\n",
      "S\n",
      " \t0.788871\t ingapore Dollar\n",
      "\n",
      "3\n",
      "THB\n",
      " \t0.0313789\tThai Baht\n",
      "1\n",
      "T\n",
      " \t0.0313789\t hai Baht\n"
     ]
    }
   ],
   "source": [
    "curcon(2,2)"
   ]
  },
  {
   "cell_type": "code",
   "execution_count": 423,
   "metadata": {},
   "outputs": [],
   "source": [
    "def curcon2(name,amount):\n",
    "    infile=open('currencies.txt','r')\n",
    "    list=infile.readlines()\n",
    "    #list2=list.split()\n",
    "    infile.close()\n",
    "    table={}\n",
    "    table2={}\n",
    "    for i in range(len(list)):\n",
    "        list2=list[i].split()\n",
    "        table2={list2[0]:list2[1:]}\n",
    "        table.update(table2)    \n",
    "    value=table[name][0]\n",
    "    value=eval(value)\n",
    "    print('Value in USD is '+str(value*amount))\n",
    "    \n",
    "      "
   ]
  },
  {
   "cell_type": "code",
   "execution_count": 424,
   "metadata": {},
   "outputs": [
    {
     "name": "stdout",
     "output_type": "stream",
     "text": [
      "Value in USD is 3.6331724\n"
     ]
    }
   ],
   "source": [
    "curcon2('DKK',22)"
   ]
  },
  {
   "cell_type": "code",
   "execution_count": 441,
   "metadata": {},
   "outputs": [],
   "source": [
    "def frequencies(str):\n",
    "    str=str.lower()\n",
    "    list={}\n",
    "    defined='abcdefghijklmnopqrstuvwxyz'\n",
    "    for char in str:\n",
    "        if char in defined:\n",
    "            if char in list:\n",
    "                list[char]+=1\n",
    "            else:\n",
    "                list[char]=1\n",
    "    print(list)"
   ]
  },
  {
   "cell_type": "code",
   "execution_count": 442,
   "metadata": {},
   "outputs": [
    {
     "name": "stdout",
     "output_type": "stream",
     "text": [
      "{'d': 2, 'f': 2, 'b': 11, 'n': 2, 'i': 1, 'o': 5, 'k': 2, 'a': 9, 'e': 7, 'j': 5, 't': 4, 'h': 3, 'r': 3, 'l': 2, 'p': 3}\n"
     ]
    }
   ],
   "source": [
    "frequencies('dfbniodfkbab a nbaejthjaertoba jle boae bj rt bje oha eptrba ol; kbp ehpba')"
   ]
  },
  {
   "cell_type": "code",
   "execution_count": 484,
   "metadata": {},
   "outputs": [],
   "source": [
    "def sieve(till):\n",
    "    L=[]\n",
    "    primeL=[]\n",
    "    for i in range(2,till+1):\n",
    "        L.append(i)\n",
    "    for j in range(2,till+1):\n",
    "        primeL.append(j)\n",
    "        for k in range(2,till+1):\n",
    "            if L[k]%primeL[j]==0:\n",
    "                L.pop(j)\n",
    "                print(L)\n",
    "        return primeL"
   ]
  },
  {
   "cell_type": "code",
   "execution_count": 485,
   "metadata": {},
   "outputs": [
    {
     "ename": "IndexError",
     "evalue": "list index out of range",
     "output_type": "error",
     "traceback": [
      "\u001b[1;31m---------------------------------------------------------------------------\u001b[0m",
      "\u001b[1;31mIndexError\u001b[0m                                Traceback (most recent call last)",
      "\u001b[1;32m<ipython-input-485-492ec106e0d4>\u001b[0m in \u001b[0;36m<module>\u001b[1;34m\u001b[0m\n\u001b[1;32m----> 1\u001b[1;33m \u001b[0msieve\u001b[0m\u001b[1;33m(\u001b[0m\u001b[1;36m33\u001b[0m\u001b[1;33m)\u001b[0m\u001b[1;33m\u001b[0m\u001b[1;33m\u001b[0m\u001b[0m\n\u001b[0m",
      "\u001b[1;32m<ipython-input-484-cedf388f7bc9>\u001b[0m in \u001b[0;36msieve\u001b[1;34m(till)\u001b[0m\n\u001b[0;32m      7\u001b[0m         \u001b[0mprimeL\u001b[0m\u001b[1;33m.\u001b[0m\u001b[0mappend\u001b[0m\u001b[1;33m(\u001b[0m\u001b[0mj\u001b[0m\u001b[1;33m)\u001b[0m\u001b[1;33m\u001b[0m\u001b[1;33m\u001b[0m\u001b[0m\n\u001b[0;32m      8\u001b[0m         \u001b[1;32mfor\u001b[0m \u001b[0mk\u001b[0m \u001b[1;32min\u001b[0m \u001b[0mrange\u001b[0m\u001b[1;33m(\u001b[0m\u001b[1;36m2\u001b[0m\u001b[1;33m,\u001b[0m\u001b[0mtill\u001b[0m\u001b[1;33m+\u001b[0m\u001b[1;36m1\u001b[0m\u001b[1;33m)\u001b[0m\u001b[1;33m:\u001b[0m\u001b[1;33m\u001b[0m\u001b[1;33m\u001b[0m\u001b[0m\n\u001b[1;32m----> 9\u001b[1;33m             \u001b[1;32mif\u001b[0m \u001b[0mL\u001b[0m\u001b[1;33m[\u001b[0m\u001b[0mk\u001b[0m\u001b[1;33m]\u001b[0m\u001b[1;33m%\u001b[0m\u001b[0mprimeL\u001b[0m\u001b[1;33m[\u001b[0m\u001b[0mj\u001b[0m\u001b[1;33m]\u001b[0m\u001b[1;33m==\u001b[0m\u001b[1;36m0\u001b[0m\u001b[1;33m:\u001b[0m\u001b[1;33m\u001b[0m\u001b[1;33m\u001b[0m\u001b[0m\n\u001b[0m\u001b[0;32m     10\u001b[0m                 \u001b[0mL\u001b[0m\u001b[1;33m.\u001b[0m\u001b[0mpop\u001b[0m\u001b[1;33m(\u001b[0m\u001b[0mj\u001b[0m\u001b[1;33m)\u001b[0m\u001b[1;33m\u001b[0m\u001b[1;33m\u001b[0m\u001b[0m\n\u001b[0;32m     11\u001b[0m                 \u001b[0mprint\u001b[0m\u001b[1;33m(\u001b[0m\u001b[0mL\u001b[0m\u001b[1;33m)\u001b[0m\u001b[1;33m\u001b[0m\u001b[1;33m\u001b[0m\u001b[0m\n",
      "\u001b[1;31mIndexError\u001b[0m: list index out of range"
     ]
    }
   ],
   "source": [
    "sieve(33)"
   ]
  },
  {
   "cell_type": "code",
   "execution_count": 491,
   "metadata": {},
   "outputs": [],
   "source": [
    "def triangleArea(a,b,c):\n",
    "    import math\n",
    "    s=(a+b+c)/2\n",
    "    area=math.sqrt(s*(s-a)*(s-b)*(s-c))\n",
    "    print('area of the triangle is '+str(area))\n",
    "    "
   ]
  },
  {
   "cell_type": "code",
   "execution_count": 493,
   "metadata": {},
   "outputs": [
    {
     "name": "stdout",
     "output_type": "stream",
     "text": [
      "area of the triangle is 1.7320508075688772\n"
     ]
    }
   ],
   "source": [
    "triangleArea(2,2,2)"
   ]
  },
  {
   "cell_type": "code",
   "execution_count": null,
   "metadata": {},
   "outputs": [],
   "source": []
  }
 ],
 "metadata": {
  "kernelspec": {
   "display_name": "Python 3",
   "language": "python",
   "name": "python3"
  },
  "language_info": {
   "codemirror_mode": {
    "name": "ipython",
    "version": 3
   },
   "file_extension": ".py",
   "mimetype": "text/x-python",
   "name": "python",
   "nbconvert_exporter": "python",
   "pygments_lexer": "ipython3",
   "version": "3.7.6"
  }
 },
 "nbformat": 4,
 "nbformat_minor": 4
}
